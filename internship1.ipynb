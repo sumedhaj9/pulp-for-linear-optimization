{
 "cells": [
  {
   "cell_type": "markdown",
   "metadata": {},
   "source": [
    "## What is Linear Programming?"
   ]
  },
  {
   "cell_type": "markdown",
   "metadata": {},
   "source": [
    "In general, LPP is a approach to come up with the best possible outcome using mathematical model to identify extreme min or max approach to find the linear relationship with the dataset. Which help us optimizing and help finding a feasible point or region for the problem.\n"
   ]
  },
  {
   "cell_type": "markdown",
   "metadata": {},
   "source": [
    "Optimization: it is a objective function explaining what you want min or max? Linear Objective Function: It is normally quantitative variables or features like revenue, Profit, distance etc. from which we are going to optimize generally represented by\n",
    "\n",
    "Optimization(Min or Max) Z= C1X1+C2x2…CnXn\n",
    "\n",
    "Where Z is the measure of performance , which is a function of x1,x2,…xn.. Quantities C1,c2…cn(Parameters)\n",
    "\n",
    "Linear Constraint: they are the limitation for the model. They are normally resourse like machine, raw materials, space, money etc..\n",
    "If we just plot the linear equation on a graph and draw lines and find the feasible region it is the most simple approach for a LPP. Which is a graphical approach/method for LPP; another approach is the simplex method.\n",
    "\n",
    "Linear Programming is a approach which is applied on optimization of linearly construct able data not on nonlinear data."
   ]
  },
  {
   "cell_type": "markdown",
   "metadata": {},
   "source": [
    "## Explain what linear programming is and in what circumstances we can use this technique in our daily analytics operations ?"
   ]
  },
  {
   "cell_type": "markdown",
   "metadata": {},
   "source": [
    "Linear programming (LP, also called linear optimization) is a method to achieve the best outcome (such as maximum profit or lowest cost) in a mathematical model whose requirements are represented by linear relationships. Linear programming is a special case of mathematical programming (mathematical optimization).\n",
    "\n",
    "More formally, linear programming is a technique for the optimization of a linear objective function, subject to linear equality and linear inequality constraints. Its feasible region is a convex polytope, which is a set defined as the intersection of finitely many half spaces, each of which is defined by a linear inequality. Its objective function is a real-valued affine (linear) function defined on this polyhedron. A linear programming algorithm finds a point in the polyhedron where this function has the smallest (or largest) value if such a point exists.\n",
    "\n",
    "An example of solving a real world problem using LPP is as follows:\n",
    "\n",
    "We're consulting for a boutique car manufacturer, producing luxury cars.\n",
    "\n",
    "They run on one month (30 days) cycles, we have one cycle to show we can provide value.\n",
    "\n",
    "There is one robot, 2 engineers and one detailer in the factory. The detailer has some holiday off, so only has 21 days available.\n",
    "\n",
    "The 2 cars need different time with each resource:\n",
    "\n",
    "Robot time: Car A - 3 days; Car B - 4 days.\n",
    "\n",
    "Engineer time: Car A - 5 days; Car B - 6 days.\n",
    "\n",
    "Detailer time: Car A - 1.5 days; Car B - 3 days.\n",
    "\n",
    "Car A provides €30,000 profit, whilst Car B offers €45,000 profit.\n",
    "\n",
    "At the moment, they produce 4 of each cars per month, for €300,000 profit. Not bad at all, but we think we can do better for them.\n",
    "\n",
    "This can be modelled as follows:\n",
    "\n",
    "Maximise\n",
    "\n",
    "Profit = 30,000A + 45,000B\n",
    "\n",
    "Subject to:\n",
    "\n",
    "A ≥ 0\n",
    "\n",
    "B ≥ 0\n",
    "\n",
    "3A + 4B ≤ 30\n",
    "\n",
    "5A + 6B ≤ 60\n",
    "\n",
    "1.5A + 3B ≤ 21"
   ]
  },
  {
   "cell_type": "markdown",
   "metadata": {},
   "source": [
    "## Given problem statement and its solution code \n",
    " "
   ]
  },
  {
   "cell_type": "markdown",
   "metadata": {},
   "source": [
    "A car company produces 2 models, model A and model B. Long-term projections indicate an expected demand of at least 100 model A cars and 80 model B cars each day. Because of limitations on production capacity, no more than 200 model A cars and 170 model B cars can be made daily. To satisfy a shipping contract, a total of at least 200 cars much be shipped each day. If each model A car sold results in a $2000 loss, but each model B car produces a $5000 profit, how many of each type should be made daily to maximize net profits?"
   ]
  },
  {
   "cell_type": "code",
   "execution_count": null,
   "metadata": {},
   "outputs": [],
   "source": [
    "import pulp"
   ]
  },
  {
   "cell_type": "markdown",
   "metadata": {},
   "source": [
    "\n",
    "PuLP is an open source linear programming package for python. We then model our decision variables using the LpVariable class.\n",
    "The objective function and constraints are added using the += operator to our model.\n",
    "The objective function is added first, then the individual constraints."
   ]
  },
  {
   "cell_type": "code",
   "execution_count": 6,
   "metadata": {},
   "outputs": [
    {
     "data": {
      "text/plain": [
       "Maximize net profit:\n",
       "MAXIMIZE\n",
       "-2000*x + 5000*y + 0\n",
       "SUBJECT TO\n",
       "_C1: x + y >= 200\n",
       "\n",
       "VARIABLES\n",
       "100 <= x <= 200 Continuous\n",
       "80 <= y <= 170 Continuous"
      ]
     },
     "execution_count": 6,
     "metadata": {},
     "output_type": "execute_result"
    }
   ],
   "source": [
    "my_lp_problem=pulp.LpProblem(\"Maximize net profit\",pulp.LpMaximize)\n",
    "x=pulp.LpVariable('x',lowBound=100,upBound=200,cat='Continuous')\n",
    "y=pulp.LpVariable('y',lowBound=80,upBound=170,cat='Continuous')\n",
    "\n",
    "my_lp_problem += -2000*x + 5000*y, \"Z\" #Objecive function\n",
    "\n",
    "my_lp_problem += x+y>=200 #Constraints\n",
    "my_lp_problem"
   ]
  },
  {
   "cell_type": "code",
   "execution_count": 8,
   "metadata": {},
   "outputs": [
    {
     "data": {
      "text/plain": [
       "'Optimal'"
      ]
     },
     "execution_count": 8,
     "metadata": {},
     "output_type": "execute_result"
    }
   ],
   "source": [
    "my_lp_problem.solve()\n",
    "pulp.LpStatus[my_lp_problem.status] #To check if optimal solution can be found "
   ]
  },
  {
   "cell_type": "markdown",
   "metadata": {},
   "source": [
    "There are total 5 satus codes: \n",
    "Not Solved,\n",
    " Optimal,\n",
    " Infeasible,\n",
    " Unbounded and\n",
    " Undefined.\n",
    " \n",
    "We can now view our maximal variable values and the maximum value of Z.\n",
    "\n",
    "We can use the varValue method to retrieve the values of our variables x and y, and the pulp.value function to view the maximum value of the objective function."
   ]
  },
  {
   "cell_type": "code",
   "execution_count": 12,
   "metadata": {},
   "outputs": [
    {
     "name": "stdout",
     "output_type": "stream",
     "text": [
      "x  =  100.0\n",
      "y  =  170.0\n"
     ]
    }
   ],
   "source": [
    "for var in my_lp_problem.variables():\n",
    "    print(var.name,\" = \",var.varValue)"
   ]
  },
  {
   "cell_type": "code",
   "execution_count": 14,
   "metadata": {},
   "outputs": [
    {
     "name": "stdout",
     "output_type": "stream",
     "text": [
      "650000.0\n"
     ]
    }
   ],
   "source": [
    "print(pulp.value(my_lp_problem.objective))"
   ]
  },
  {
   "cell_type": "markdown",
   "metadata": {},
   "source": [
    "## Solution\n"
   ]
  },
  {
   "cell_type": "markdown",
   "metadata": {},
   "source": [
    "To obtain maximum net profit of $650000 , 100 model A cars and 170 model B cars need to be produced."
   ]
  },
  {
   "cell_type": "code",
   "execution_count": null,
   "metadata": {},
   "outputs": [],
   "source": []
  }
 ],
 "metadata": {
  "kernelspec": {
   "display_name": "Python 3",
   "language": "python",
   "name": "python3"
  },
  "language_info": {
   "codemirror_mode": {
    "name": "ipython",
    "version": 3
   },
   "file_extension": ".py",
   "mimetype": "text/x-python",
   "name": "python",
   "nbconvert_exporter": "python",
   "pygments_lexer": "ipython3",
   "version": "3.6.4"
  }
 },
 "nbformat": 4,
 "nbformat_minor": 2
}
